{
 "cells": [
  {
   "cell_type": "code",
   "execution_count": 19,
   "metadata": {},
   "outputs": [],
   "source": [
    "import math\n",
    "import numpy as np\n",
    "import matplotlib.pyplot as plt\n",
    "from scipy.integrate import quad, dblquad"
   ]
  },
  {
   "cell_type": "code",
   "execution_count": 354,
   "metadata": {
    "scrolled": true
   },
   "outputs": [
    {
     "name": "stdout",
     "output_type": "stream",
     "text": [
      "1.666666666666735e-05 1.0792000544336891e-11\n"
     ]
    },
    {
     "data": {
      "text/plain": [
       "Text(0.5, 1.0, 'H= 75 km/s/Mpc')"
      ]
     },
     "execution_count": 354,
     "metadata": {},
     "output_type": "execute_result"
    },
    {
     "data": {
      "image/png": "[encoded data removed]",
      "text/plain": [
       "<Figure size 432x288 with 1 Axes>"
      ]
     },
     "metadata": {
      "needs_background": "light"
     },
     "output_type": "display_data"
    }
   ],
   "source": [
    "#PART A\n",
    "\n",
    "sig = 1e3\n",
    "mu = 3e4\n",
    "H = 75\n",
    "\n",
    "A = 1/np.sqrt(2*np.pi*sig**2) #constant in front of gaussian\n",
    "\n",
    "def num(x): #numerator to integrate\n",
    "    return (A/800)*np.exp( -((H*x - mu)**2)/ (2*sig**2))\n",
    "\n",
    "denom, err = quad(num,0,800) #integrate numerator (this is denominator)\n",
    "print(denom, err)\n",
    "\n",
    "ys = lambda x: num(x)/denom\n",
    "\n",
    "xpts = np.linspace(0,800,1e4) #make x points and plot\n",
    "plt.plot(xpts,ys(xpts))\n",
    "plt.xlabel('Distance (Mpc)')\n",
    "plt.ylabel('p(d|v)')\n",
    "plt.title('H= 75 km/s/Mpc')"
   ]
  },
  {
   "cell_type": "code",
   "execution_count": 358,
   "metadata": {},
   "outputs": [
    {
     "name": "stdout",
     "output_type": "stream",
     "text": [
      "Lower bound of 68% CI is:  386.75867586758676  Mpc\n",
      "Upper bound of 68% CI is:  413.32133213321333  Mpc\n",
      "Best estimator is: Mode= 399.9599959996  Mpc\n"
     ]
    }
   ],
   "source": [
    "#PART B\n",
    "\n",
    "def CDFa(x): #creating cumulative distribution function\n",
    "    return quad(ys, 0,x)[0]\n",
    "\n",
    "yBE = [] \n",
    "for i in xpts: #creating list of plotted points to find mode below\n",
    "    yBE.append(ys(i))\n",
    "\n",
    "for i in xpts: #Find point in CDF that corresponds to lowest 16% of dist\n",
    "    if CDFa(i) >= .16:\n",
    "        print('Lower bound of 68% CI is: ',i,' Mpc')\n",
    "        break\n",
    "\n",
    "for i in xpts: #Same as above for highest 84% of dist\n",
    "    if CDFa(i) >= .84:\n",
    "        print('Upper bound of 68% CI is: ',i,' Mpc')\n",
    "        break\n",
    "\n",
    "m = yBE.index(max(yBE))#finding maximum of probability distribution\n",
    "print('Best estimator is: Mode=',xpts.tolist()[m], ' Mpc')"
   ]
  },
  {
   "cell_type": "code",
   "execution_count": null,
   "metadata": {},
   "outputs": [],
   "source": []
  },
  {
   "cell_type": "code",
   "execution_count": null,
   "metadata": {},
   "outputs": [],
   "source": []
  },
  {
   "cell_type": "code",
   "execution_count": 359,
   "metadata": {},
   "outputs": [
    {
     "name": "stdout",
     "output_type": "stream",
     "text": [
      "1.8368333332515972e-05 1.3185210470178896e-08\n"
     ]
    },
    {
     "data": {
      "text/plain": [
       "Text(0.5, 1.0, 'Uniform priors for H and d')"
      ]
     },
     "execution_count": 359,
     "metadata": {},
     "output_type": "execute_result"
    },
    {
     "data": {
      "image/png": "[encoded data removed]",
      "text/plain": [
       "<Figure size 432x288 with 1 Axes>"
      ]
     },
     "metadata": {
      "needs_background": "light"
     },
     "output_type": "display_data"
    }
   ],
   "source": [
    "#PART C\n",
    "\n",
    "sig = 1e3\n",
    "mu = 3e4\n",
    "\n",
    "A = 1/np.sqrt(2*np.pi*sig**2)\n",
    "Hpri = 1/40 #flat H prior\n",
    "Xpri = 1/800 #flat d prior\n",
    "\n",
    "def gauss(H,x): #integrand for denominator\n",
    "    return Xpri*Hpri*A*np.exp( -((H*x - mu)**2)/ (2*sig**2))\n",
    "\n",
    "\n",
    "denom, err = dblquad(gauss,0,800, lambda x: 50, lambda x: 90) #double integration\n",
    "print(denom, err)\n",
    "\n",
    "\n",
    "def numerator(x): #numerator as function of x\n",
    "    func = lambda H: A*np.exp( -((H*x - mu)**2)/ (2*sig**2))*Xpri*Hpri\n",
    "    num, err2 = quad(func, 50,90)\n",
    "    return num\n",
    "\n",
    "\n",
    "ypts = [] #making y points for prob(x|v)\n",
    "for i in xpts:\n",
    "    ypts.append(numerator(i)/denom) \n",
    "\n",
    "plt.plot(xpts,ypts)\n",
    "plt.xlabel('Distance (Mpc)')\n",
    "plt.ylabel('p(d|v)')\n",
    "plt.title('Uniform priors for H and d')"
   ]
  },
  {
   "cell_type": "code",
   "execution_count": 362,
   "metadata": {},
   "outputs": [
    {
     "name": "stdout",
     "output_type": "stream",
     "text": [
      "Lower bound of 68% CI is:  366.03660366036604  Mpc\n"
     ]
    },
    {
     "name": "stderr",
     "output_type": "stream",
     "text": [
      "/Users/maxmckie/opt/anaconda3/lib/python3.7/site-packages/ipykernel_launcher.py:5: IntegrationWarning: The occurrence of roundoff error is detected, which prevents \n",
      "  the requested tolerance from being achieved.  The error may be \n",
      "  underestimated.\n",
      "  \"\"\"\n"
     ]
    },
    {
     "name": "stdout",
     "output_type": "stream",
     "text": [
      "Upper bound of 68% CI is:  545.8945894589459  Mpc\n",
      "Best estimator is: Mean= 453.67934123049673  Mpc\n"
     ]
    }
   ],
   "source": [
    "#PART D\n",
    "\n",
    "ys = lambda x: numerator(x)/denom #making cumulative distribution function\n",
    "def CDFc(x):\n",
    "    return quad(ys, 0,x)[0]\n",
    "\n",
    "for i in xpts: #Finding lower bound of CI\n",
    "    if CDFc(i) >= .16:\n",
    "        print('Lower bound of 68% CI is: ',i,' Mpc')\n",
    "        break\n",
    "\n",
    "for i in xpts: #Finding upper bound of CI\n",
    "    if CDFc(i) >= .84:\n",
    "        print('Upper bound of 68% CI is: ',i,' Mpc')\n",
    "        break\n",
    "\n",
    "weights= lambda x: x*numerator(x)/denom #finding expectation value\n",
    "mean = quad(weights,0,800)\n",
    "\n",
    "print('Best estimator is: Mean=',mean[0],' Mpc')"
   ]
  },
  {
   "cell_type": "code",
   "execution_count": 363,
   "metadata": {},
   "outputs": [
    {
     "name": "stdout",
     "output_type": "stream",
     "text": [
      "1.890330595105745e-05 7.069192154215825e-09\n"
     ]
    },
    {
     "data": {
      "text/plain": [
       "Text(0.5, 1.0, \"Jeffrey's prior for H\")"
      ]
     },
     "execution_count": 363,
     "metadata": {},
     "output_type": "execute_result"
    },
    {
     "data": {
      "image/png": "[encoded data removed]",
      "text/plain": [
       "<Figure size 432x288 with 1 Axes>"
      ]
     },
     "metadata": {
      "needs_background": "light"
     },
     "output_type": "display_data"
    }
   ],
   "source": [
    "#PART E\n",
    "\n",
    "sig = 1e3\n",
    "mu = 3e4\n",
    "\n",
    "A = 1/np.sqrt(2*np.pi*sig**2)\n",
    "HHpri = 1/np.log(90/50) #Jeffrey's H prior multiplied by H\n",
    "Xpri = 1/800 #still flat d prior\n",
    "\n",
    "def gauss(H,x): #denominator\n",
    "    return Xpri*HHpri*(1/H)*A*np.exp( -(1/2)*((H*x - mu)/sig)**2)\n",
    "\n",
    "\n",
    "denom, err = dblquad(gauss,0,800, lambda x: 50, lambda x: 90) #double integration of denominator\n",
    "print(denom, err)\n",
    "\n",
    "\n",
    "def numerator(x): #numerator as function of x\n",
    "    func = lambda H: A*np.exp( -(1/2)*((H*x - mu)/sig)**2)*Xpri*(1/H)*HHpri\n",
    "    num, err2 = quad(func, 50,90)\n",
    "    return num\n",
    "\n",
    "\n",
    "ypts = [] #getting points for p(d|v)\n",
    "for i in xpts:\n",
    "    ypts.append(numerator(i)/denom)\n",
    "\n",
    "plt.plot(xpts,ypts)\n",
    "plt.xlabel('Distance (Mpc)')\n",
    "plt.ylabel('p(d|v)')\n",
    "plt.title(\"Jeffrey's prior for H\")"
   ]
  },
  {
   "cell_type": "code",
   "execution_count": 365,
   "metadata": {},
   "outputs": [
    {
     "name": "stdout",
     "output_type": "stream",
     "text": [
      "Lower bound of 68% CI is:  375.63756375637564  Mpc\n",
      "Upper bound of 68% CI is:  556.8556855685569  Mpc\n",
      "Best estimator: Mean= 466.66671175850985  Mpc\n"
     ]
    },
    {
     "name": "stderr",
     "output_type": "stream",
     "text": [
      "/Users/maxmckie/opt/anaconda3/lib/python3.7/site-packages/ipykernel_launcher.py:18: IntegrationWarning: The occurrence of roundoff error is detected, which prevents \n",
      "  the requested tolerance from being achieved.  The error may be \n",
      "  underestimated.\n"
     ]
    }
   ],
   "source": [
    "#PART F\n",
    "\n",
    "ys = lambda x: numerator(x)/denom #creating CDF\n",
    "def CDFe(x):\n",
    "    return quad(ys, 0,x)[0]\n",
    "\n",
    "for i in xpts: #Finding lower bound of CI\n",
    "    if CDFe(i) >= .16:\n",
    "        print('Lower bound of 68% CI is: ',i,' Mpc')\n",
    "        break\n",
    "\n",
    "for i in xpts: #Finding upper bound of CI\n",
    "    if CDFe(i) >= .84:\n",
    "        print('Upper bound of 68% CI is: ',i,' Mpc')\n",
    "        break\n",
    "\n",
    "weights= lambda x: x*numerator(x)/denom #calculating mean\n",
    "mean = quad(weights,0,800)\n",
    "print('Best estimator: Mean=',mean[0],' Mpc')"
   ]
  },
  {
   "cell_type": "code",
   "execution_count": null,
   "metadata": {},
   "outputs": [],
   "source": []
  },
  {
   "cell_type": "code",
   "execution_count": 366,
   "metadata": {},
   "outputs": [
    {
     "name": "stdout",
     "output_type": "stream",
     "text": [
      "1.6891266951096314e-05\n",
      "1.8474628402733928e-05\n"
     ]
    },
    {
     "data": {
      "image/png": "[encoded data removed]",
      "text/plain": [
       "<Figure size 432x288 with 1 Axes>"
      ]
     },
     "metadata": {
      "needs_background": "light"
     },
     "output_type": "display_data"
    }
   ],
   "source": [
    "#PART G\n",
    "\n",
    "sigv = 1e3\n",
    "muv = 3e4\n",
    "\n",
    "sigH1 = 1.42 #sigma and mu corresponding to measurements 1 and 2 in the\n",
    "muH1 = 74.03 # problem statement\n",
    "sigH2 = .42\n",
    "muH2 = 67.66\n",
    "\n",
    "A = 1/(sigv*np.sqrt(2*np.pi))  #constants in front of gaussian distribution\n",
    "B1 = 1/(sigH1*np.sqrt(2*np.pi))\n",
    "B2 = 1/(sigH2*np.sqrt(2*np.pi))\n",
    "\n",
    "Xpri = 1/800 #flat x prior (I used x instead of d)\n",
    "\n",
    "\n",
    "def Hgauss1(H,x): #integrand for first denominator\n",
    "    HHpri = B1*np.exp( -(1/2)*((H-muH1)/sigH1)**2)\n",
    "    den1 = Xpri*HHpri*A*np.exp( -(1/2)*((H*x - muv)/sigv)**2)\n",
    "    return den1\n",
    "\n",
    "\n",
    "denom1, err1 = dblquad(Hgauss1,0,800, lambda x: 50, lambda x: 90) #double integral of 1st denominator\n",
    "print(denom1)\n",
    "\n",
    "\n",
    "def numerator1(x): #integrating H out of numerator so it is only function of x\n",
    "    func = lambda H: A*B1*Xpri*np.exp( -(1/2)*((H*x - mu)/sig)**2) * np.exp( -(1/2)*((H-muH1)/sigH1)**2)\n",
    "    num1 = quad(func, 50,90)[0]\n",
    "    return num1\n",
    "\n",
    "\n",
    "ypts1 = [] #making points to plot on y axis for 1st distribution\n",
    "for i in xpts:\n",
    "    ypts1.append(numerator1(i)/denom1)\n",
    "\n",
    "    \n",
    "\n",
    "\n",
    "def Hgauss2(H,x): #integrand for second denominator\n",
    "    HHpri = B2*np.exp( -(1/2)*((H-muH2)/sigH2)**2)\n",
    "    den2 = Xpri*HHpri*A*np.exp( -(1/2)*((H*x - muv)/sigv)**2)\n",
    "    return den2\n",
    "\n",
    "\n",
    "denom2, err2 = dblquad(Hgauss2,0,800, lambda x: 50, lambda x: 90) #double integral of 2nd denominator\n",
    "print(denom2)\n",
    "\n",
    "\n",
    "def numerator2(x): #integrating H out of numerator so it is only function of x\n",
    "    func = lambda H: A*B2*Xpri*np.exp( -(1/2)*((H*x - mu)/sig)**2) * np.exp( -(1/2)*((H-muH2)/sigH2)**2)\n",
    "    num2, err2 = quad(func, 50,90)\n",
    "    return num2\n",
    "\n",
    "\n",
    "ypts2 = [] #making points to plot on y axis for 2nd distribution\n",
    "for i in xpts:\n",
    "    ypts2.append(numerator2(i)/denom)\n",
    "\n",
    "plt.plot(xpts,ypts2,'r',label = '67.66 +- 0.42 km/s/Mpc')  \n",
    "plt.plot(xpts,ypts1, 'b',label='74.03 +- 1.42 km/s/Mpc' )\n",
    "plt.xlabel('Distance (Mpc)')\n",
    "plt.ylabel('p(d|v)')\n",
    "plt.title('Comparison of p(d|v) for different measured H')\n",
    "plt.legend()\n",
    "plt.show()"
   ]
  },
  {
   "cell_type": "code",
   "execution_count": 368,
   "metadata": {},
   "outputs": [
    {
     "name": "stdout",
     "output_type": "stream",
     "text": [
      "Lower bound of 68% CI for blue dist.:  390.03900390039007  Mpc\n",
      "Upper bound of 68% CI for blue dist.:  421.0821082108211  Mpc\n"
     ]
    },
    {
     "name": "stderr",
     "output_type": "stream",
     "text": [
      "/Users/maxmckie/opt/anaconda3/lib/python3.7/site-packages/ipykernel_launcher.py:9: IntegrationWarning: The occurrence of roundoff error is detected, which prevents \n",
      "  the requested tolerance from being achieved.  The error may be \n",
      "  underestimated.\n",
      "  if __name__ == '__main__':\n"
     ]
    },
    {
     "name": "stdout",
     "output_type": "stream",
     "text": [
      "Lower bound of 68% CI for red dist.:  428.52285228522857  Mpc\n",
      "Upper bound of 68% CI for red dist.:  458.4458445844585  Mpc\n",
      "Best estimator of red curve: Mean=  443.3897883265897  Mpc\n",
      "Best estimator of blue curve: Mean=  405.539841809249  Mpc\n"
     ]
    },
    {
     "name": "stderr",
     "output_type": "stream",
     "text": [
      "/Users/maxmckie/opt/anaconda3/lib/python3.7/site-packages/ipykernel_launcher.py:36: IntegrationWarning: The maximum number of subdivisions (50) has been achieved.\n",
      "  If increasing the limit yields no improvement it is advised to analyze \n",
      "  the integrand in order to determine the difficulties.  If the position of a \n",
      "  local difficulty can be determined (singularity, discontinuity) one will \n",
      "  probably gain from splitting up the interval and calling the integrator \n",
      "  on the subranges.  Perhaps a special-purpose integrator should be used.\n"
     ]
    }
   ],
   "source": [
    "#PART H\n",
    "\n",
    "ys1 = lambda x: numerator1(x)/denom1 #making CDFs for 1 and 2\n",
    "def CDFg1(x):\n",
    "    return quad(ys1, 0,x)[0]\n",
    "\n",
    "ys2 = lambda x: numerator2(x)/denom2\n",
    "def CDFg2(x):\n",
    "    return quad(ys2, 0,x)[0]\n",
    "\n",
    "#finding CI bounds for 1 and 2\n",
    "\n",
    "for i in xpts:\n",
    "    if CDFg1(i)>= .16:\n",
    "        print('Lower bound of 68% CI for blue dist.: ',i,' Mpc')\n",
    "        break\n",
    "        \n",
    "for i in xpts:\n",
    "    if CDFg1(i)>= .84:\n",
    "        print('Upper bound of 68% CI for blue dist.: ',i,' Mpc')\n",
    "        break\n",
    "        \n",
    "for i in xpts:\n",
    "    if CDFg2(i)>= .16:\n",
    "        print('Lower bound of 68% CI for red dist.: ',i,' Mpc')\n",
    "        break\n",
    "        \n",
    "for i in xpts:\n",
    "    if CDFg2(i)>= .84:\n",
    "        print('Upper bound of 68% CI for red dist.: ',i,' Mpc')\n",
    "        break\n",
    "        \n",
    "weights1= lambda x: x*numerator1(x)/denom1 #Finding expectation values for\n",
    "weights2= lambda x: x*numerator2(x)/denom2 #  best estimators\n",
    "mean1 = quad(weights1,0,800)\n",
    "mean2 = quad(weights2,0,800)\n",
    "print('Best estimator of red curve: Mean= ',mean2[0],' Mpc')\n",
    "print('Best estimator of blue curve: Mean= ',mean1[0],' Mpc')"
   ]
  },
  {
   "cell_type": "code",
   "execution_count": null,
   "metadata": {},
   "outputs": [],
   "source": [
    "The 68% CI for d given the 2 different measurements of H do not quite agree but the bounds are very close.\n",
    "\n",
    "From the way the question was asked, I feel like they are supposed to agree.\n",
    "\n",
    "My guess as to why they do not agree is because of rounding errors in the scipy.integrate.quad function (see the\n",
    "    roundoff tolerance caution statements in red above). I'm not sure if this is something I could have avoided \n",
    "    using a different function to integrate but hey, if they were supposed to agree I wasn't too far off right?"
   ]
  }
 ],
 "metadata": {
  "kernelspec": {
   "display_name": "Python 3",
   "language": "python",
   "name": "python3"
  },
  "language_info": {
   "codemirror_mode": {
    "name": "ipython",
    "version": 3
   },
   "file_extension": ".py",
   "mimetype": "text/x-python",
   "name": "python",
   "nbconvert_exporter": "python",
   "pygments_lexer": "ipython3",
   "version": "3.7.4"
  }
 },
 "nbformat": 4,
 "nbformat_minor": 2
}
