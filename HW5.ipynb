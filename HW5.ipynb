{
 "cells": [
  {
   "cell_type": "code",
   "execution_count": 2,
   "metadata": {},
   "outputs": [],
   "source": [
    "import math\n",
    "import numpy as np\n",
    "import matplotlib.pyplot as plt\n",
    "from scipy.optimize import minimize\n",
    "from scipy.integrate import quad\n",
    "from scipy.special import gamma"
   ]
  },
  {
   "cell_type": "code",
   "execution_count": 3,
   "metadata": {},
   "outputs": [],
   "source": [
    "#PROBLEM 1\n",
    "#PART A"
   ]
  },
  {
   "cell_type": "code",
   "execution_count": 4,
   "metadata": {},
   "outputs": [],
   "source": [
    "#empty lists for data points\n",
    "z = []\n",
    "mExp = []\n",
    "mErr = []\n",
    "\n",
    "#opening data file and populating lists \n",
    "F = open(\"supernova_data.txt\",\"r\")\n",
    "f= F.readlines()\n",
    "\n",
    "for i in range(1,54):\n",
    "    z.append(float(f[i][:6]))\n",
    "    mExp.append(float(f[i][7:18]))\n",
    "    mErr.append(float(f[i][20:]))\n"
   ]
  },
  {
   "cell_type": "code",
   "execution_count": 5,
   "metadata": {},
   "outputs": [
    {
     "name": "stderr",
     "output_type": "stream",
     "text": [
      "/Users/maxmckie/opt/anaconda3/lib/python3.7/site-packages/ipykernel_launcher.py:5: RuntimeWarning: invalid value encountered in sqrt\n",
      "  \"\"\"\n",
      "/Users/maxmckie/opt/anaconda3/lib/python3.7/site-packages/ipykernel_launcher.py:6: IntegrationWarning: The occurrence of roundoff error is detected, which prevents \n",
      "  the requested tolerance from being achieved.  The error may be \n",
      "  underestimated.\n",
      "  \n"
     ]
    },
    {
     "name": "stdout",
     "output_type": "stream",
     "text": [
      "M=  -19.100025183969272\n",
      "OmegaM=  0.2538699681431748\n",
      "OmegaL=  0.7689003584030284\n",
      "H0=  71.74566128597235\n",
      "X2=  120.43539082166618\n"
     ]
    },
    {
     "data": {
      "image/png": "[encoded data removed]",
      "text/plain": [
       "<Figure size 432x288 with 1 Axes>"
      ]
     },
     "metadata": {
      "needs_background": "light"
     },
     "output_type": "display_data"
    }
   ],
   "source": [
    "c = 3e5 #km/s\n",
    "\n",
    "#integrand in dL\n",
    "def integrand(x,omgM,omgL):\n",
    "    fun = lambda z0: 1/np.sqrt( omgM*(1+z0)**3 +omgL )\n",
    "    return quad(fun,0,x)[0]\n",
    "\n",
    "#given in problem\n",
    "def dL(x,H0,omgM,omgL):\n",
    "    return (1e6)*(1+x)*(c/H0)*integrand(x,omgM,omgL)\n",
    "\n",
    "#given, expected value of m\n",
    "def m(M,x,H0,omgM,omgL):\n",
    "    return M+5*( np.log10(dL(x,H0,omgM,omgL))-1 )\n",
    "\n",
    "#Chi Squared to minimize\n",
    "def ChiSq(params):\n",
    "    M,H0,omgM,omgL = params\n",
    "    X2 =0\n",
    "    for i in range(len(mExp)-1):\n",
    "        X2 += ((mExp[i]-m(M,z[i],H0,omgM,omgL))**2)/ (mErr[i]**2) \n",
    "    return X2\n",
    "    \n",
    "\n",
    "#initial guess and minimization\n",
    "p0 = [-19, 75, 2, 1] #M,H0 omgM, omgL\n",
    "res = minimize(ChiSq, p0, method = 'SLSQP', bounds = ((-20,-18),(50,100),(0,3),(-1,4)))\n",
    "\n",
    "#Getting optimum values\n",
    "A = [res.x[0],res.x[1],res.x[2],res.x[3]]\n",
    "M1, H01, omgM1, omgL1 = A\n",
    "Xa = ChiSq(A)\n",
    "print('M= ',M1)\n",
    "print('OmegaM= ',omgM1)\n",
    "print('OmegaL= ',omgL1)\n",
    "print('H0= ',H01)\n",
    "print('X2= ',Xa)\n",
    "\n",
    "#Plotting\n",
    "xpts = [i for i in z]\n",
    "ypts = [m(M1,x,H01,omgM1,omgL1) for x in xpts]\n",
    "plt.plot(xpts,ypts)\n",
    "plt.scatter(z,mExp)\n",
    "plt.xlabel('z (Redshift)')\n",
    "plt.ylabel('m')\n",
    "plt.show()"
   ]
  },
  {
   "cell_type": "code",
   "execution_count": 6,
   "metadata": {},
   "outputs": [],
   "source": [
    "#PART B"
   ]
  },
  {
   "cell_type": "code",
   "execution_count": 7,
   "metadata": {},
   "outputs": [
    {
     "name": "stdout",
     "output_type": "stream",
     "text": [
      "M=  -19.104135032199583\n",
      "OmegaM=  0.2482364725009019\n",
      "H0=  72.42032140232163\n",
      "X2=  120.4353907605931\n"
     ]
    },
    {
     "data": {
      "image/png": "[encoded data removed]",
      "text/plain": [
       "<Figure size 432x288 with 1 Axes>"
      ]
     },
     "metadata": {
      "needs_background": "light"
     },
     "output_type": "display_data"
    }
   ],
   "source": [
    "#Same format as part a\n",
    "def integrandB(x,omgM):\n",
    "    fun = lambda z0: 1/np.sqrt( omgM*(1+z0)**3 +(1-omgM) )\n",
    "    return quad(fun,0,x)[0]\n",
    "\n",
    "def dLB(x,H0,omgM):\n",
    "    return (1e6)*(1+x)*(c/H0)*integrandB(x,omgM)\n",
    "\n",
    "def mB(M,x,H0,omgM):\n",
    "    return M+5*( np.log10(dLB(x,H0,omgM))-1 )\n",
    "\n",
    "\n",
    "\n",
    "def ChiSq2(params):\n",
    "    M,H0,omgM = params\n",
    "    X2 =0\n",
    "    for i in range(len(mExp)-1):\n",
    "        X2 += ((mExp[i]-mB(M,z[i],H0,omgM))**2)/ (mErr[i]**2) \n",
    "    return X2\n",
    "\n",
    "p1 = [-19, 78, 2] #M,H0 omgM\n",
    "res = minimize(ChiSq2, p1, method = 'SLSQP', bounds = ((-20,-18),(50,100),(0,3)))\n",
    "\n",
    "B = [res.x[0],res.x[1],res.x[2]]\n",
    "M2, H02, omgM2 = B\n",
    "Xb = ChiSq2(B)\n",
    "print('M= ',M2)\n",
    "print('OmegaM= ',omgM2)\n",
    "print('H0= ',H02)\n",
    "print('X2= ',Xb)\n",
    "\n",
    "xpts = [i for i in z]\n",
    "ypts = [mB(M2,x,H02,omgM2) for x in xpts]\n",
    "plt.plot(xpts,ypts)\n",
    "plt.scatter(z,mExp)\n",
    "plt.xlabel('z (Redshift)')\n",
    "plt.ylabel('m')\n",
    "plt.show()"
   ]
  },
  {
   "cell_type": "code",
   "execution_count": 8,
   "metadata": {},
   "outputs": [],
   "source": [
    "#There is not a significant difference in the fit, \n",
    "#and the difference in X2 between parts a) and b) \n",
    "#is roughly 1e-7 and negligible"
   ]
  },
  {
   "cell_type": "code",
   "execution_count": 9,
   "metadata": {},
   "outputs": [],
   "source": [
    "#PART C"
   ]
  },
  {
   "cell_type": "code",
   "execution_count": 10,
   "metadata": {},
   "outputs": [
    {
     "name": "stdout",
     "output_type": "stream",
     "text": [
      "M=  -19.040648580483687\n",
      "H0=  66.98356070654161\n",
      "X2=  170.2251735521908\n"
     ]
    },
    {
     "data": {
      "image/png": "[encoded data removed]",
      "text/plain": [
       "<Figure size 432x288 with 1 Axes>"
      ]
     },
     "metadata": {
      "needs_background": "light"
     },
     "output_type": "display_data"
    }
   ],
   "source": [
    "#Same format again\n",
    "def integrandC(x):\n",
    "    fun = lambda z0: 1/np.sqrt((1+z0)**3 )\n",
    "    return quad(fun,0,x)[0]\n",
    "\n",
    "def dLC(x,H0):\n",
    "    return (1e6)*(1+x)*(c/H0)*integrandC(x)\n",
    "\n",
    "def mC(M,x,H0):\n",
    "    return M+5*( np.log10(dLC(x,H0))-1 )\n",
    "\n",
    "\n",
    "\n",
    "def ChiSq3(params):\n",
    "    M,H0 = params\n",
    "    X2 =0\n",
    "    for i in range(len(mExp)-1):\n",
    "        X2 += ((mExp[i]-mC(M,z[i],H0))**2)/ (mErr[i]**2) \n",
    "    a = X2\n",
    "    return X2\n",
    "\n",
    "p2 = [-19, 78] #M,H0\n",
    "res = minimize(ChiSq3, p2, method = 'SLSQP', bounds = ((-20,-18),(50,100)))\n",
    "\n",
    "C = [res.x[0],res.x[1]]\n",
    "M3, H03 = C\n",
    "Xc = ChiSq3(C)\n",
    "print('M= ',M3)\n",
    "print('H0= ',H03)\n",
    "print('X2= ',Xc)\n",
    "\n",
    "xpts = [i for i in z]\n",
    "ypts = [mC(M1,x,H01) for x in xpts]\n",
    "plt.plot(xpts,ypts)\n",
    "plt.scatter(z,mExp)\n",
    "plt.xlabel('z (Redshift)')\n",
    "plt.ylabel('m')\n",
    "plt.show()"
   ]
  },
  {
   "cell_type": "code",
   "execution_count": 11,
   "metadata": {},
   "outputs": [],
   "source": [
    "#PART D"
   ]
  },
  {
   "cell_type": "code",
   "execution_count": 12,
   "metadata": {},
   "outputs": [
    {
     "name": "stdout",
     "output_type": "stream",
     "text": [
      "p-value=  1.7113165741730992e-12\n",
      "The addition of OmegaL is very much justified considering the minute p-value.\n"
     ]
    }
   ],
   "source": [
    "#Chi-Square distribution function\n",
    "def fX2(f):\n",
    "    fun = lambda x: np.exp(-x/2)*(x**((f/2) -1))/ ((2**(f/2))*gamma(f/2))\n",
    "    return fun\n",
    "\n",
    "deltaX2 = Xc-Xb\n",
    "\n",
    "#Finding p-value\n",
    "ans = quad(fX2(1),deltaX2,np.inf)\n",
    "print('p-value= ',ans[0])\n",
    "print('The addition of OmegaL is very much justified considering the minute p-value.')"
   ]
  },
  {
   "cell_type": "code",
   "execution_count": 13,
   "metadata": {},
   "outputs": [],
   "source": [
    "#PROBLEM 2\n",
    "#PART A"
   ]
  },
  {
   "cell_type": "code",
   "execution_count": 14,
   "metadata": {},
   "outputs": [
    {
     "name": "stdout",
     "output_type": "stream",
     "text": [
      "Likelihood=  2.1765786816562586e-13\n"
     ]
    }
   ],
   "source": [
    "pri_M = 1/2\n",
    "pri_H0 = 1/50\n",
    "pri_omgM = 1/3\n",
    "\n",
    "C0 = pri_omgM*pri_H0*pri_M\n",
    "\n",
    "#Likelihood in integrand\n",
    "def LH(M,H0,omgM):\n",
    "    param = M,H0,omgM\n",
    "    ans=1\n",
    "    for i in range(len(mExp)-1):\n",
    "        ans *= (1/(mErr[i]*np.sqrt(2*np.pi)))\n",
    "    ans *= np.exp(-ChiSq2(param)/2)\n",
    "    return ans\n",
    "\n",
    "\n",
    "def integrand(M,H0,omgM):\n",
    "    return C0*LH(M,H0,omgM)\n",
    "\n",
    "#Making/integrating all 3 variable axes to get likelihood\n",
    "Ms,H0s,omgMs = np.meshgrid(np.linspace(-20,-18,50), np.linspace(50,100,50), np.linspace(0,3,50))\n",
    "\n",
    "grid= np.zeros_like(Ms)\n",
    "for i in range(grid.shape[0]):\n",
    "    for j in range(grid.shape[1]):\n",
    "        for k in range(grid.shape[2]):\n",
    "            grid[i][j][k] = integrand(Ms[i][j][k],H0s[i][j][k],omgMs[i][j][k])\n",
    "                                                                                                    \n",
    "final = np.trapz(np.trapz(np.trapz(grid,dx=(1/25),axis=0),dx=1,axis=0),dx=3/50,axis=0)\n",
    "print('Likelihood= ',final)"
   ]
  },
  {
   "cell_type": "code",
   "execution_count": 15,
   "metadata": {},
   "outputs": [],
   "source": [
    "#PART B"
   ]
  },
  {
   "cell_type": "code",
   "execution_count": 16,
   "metadata": {},
   "outputs": [
    {
     "name": "stdout",
     "output_type": "stream",
     "text": [
      "Likelihood=  3.6512054781952275e-23\n"
     ]
    }
   ],
   "source": [
    "#Same format as a)\n",
    "C1 = pri_omgM*pri_H0\n",
    "\n",
    "def LH2(M,H0):\n",
    "    param = M,H0\n",
    "    ans=1\n",
    "    for i in range(len(mExp)-1):\n",
    "        ans *= (1/(mErr[i]*np.sqrt(2*np.pi)))\n",
    "    ans *= np.exp(-ChiSq3(param)/2)\n",
    "    return ans\n",
    "\n",
    "\n",
    "def integrand(M,H0):\n",
    "    return C1*LH2(M,H0)\n",
    "\n",
    "Ms2,H0s2 = np.meshgrid(np.linspace(-20,-18,50), np.linspace(50,100,50))\n",
    "\n",
    "grid2= np.zeros_like(Ms2)\n",
    "for i in range(grid2.shape[0]):\n",
    "    for j in range(grid2.shape[1]):\n",
    "        grid2[i][j] = integrand(Ms2[i][j],H0s2[i][j])\n",
    "                                                                                                    \n",
    "final2 = np.trapz(np.trapz(grid2,dx=(1/25),axis=0),dx=1,axis=0)\n",
    "print('Likelihood= ',final2)"
   ]
  },
  {
   "cell_type": "code",
   "execution_count": 17,
   "metadata": {},
   "outputs": [],
   "source": [
    "#PART C"
   ]
  },
  {
   "cell_type": "code",
   "execution_count": 18,
   "metadata": {},
   "outputs": [
    {
     "name": "stdout",
     "output_type": "stream",
     "text": [
      "Bayes factor is  5961260451.252748 , strongly favoring model 1 \n",
      "for a universe with dark matter.\n"
     ]
    }
   ],
   "source": [
    "B12 = final/final2\n",
    "print('Bayes factor is ',B12,', strongly favoring model 1 \\nfor a universe with dark matter.')"
   ]
  }
 ],
 "metadata": {
  "kernelspec": {
   "display_name": "Python 3",
   "language": "python",
   "name": "python3"
  },
  "language_info": {
   "codemirror_mode": {
    "name": "ipython",
    "version": 3
   },
   "file_extension": ".py",
   "mimetype": "text/x-python",
   "name": "python",
   "nbconvert_exporter": "python",
   "pygments_lexer": "ipython3",
   "version": "3.7.4"
  }
 },
 "nbformat": 4,
 "nbformat_minor": 2
}
